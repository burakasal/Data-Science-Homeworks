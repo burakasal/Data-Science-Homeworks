{
  "nbformat": 4,
  "nbformat_minor": 0,
  "metadata": {
    "colab": {
      "name": "Asal_Burak_hw1.ipynb",
      "provenance": [],
      "collapsed_sections": [],
      "toc_visible": true
    },
    "kernelspec": {
      "name": "python3",
      "display_name": "Python 3"
    }
  },
  "cells": [
    {
      "cell_type": "markdown",
      "metadata": {
        "id": "JD9gUM7WW8iT"
      },
      "source": [
        "# Homework 1: Strecthing Python Muscles\n",
        "\n",
        "\n",
        "*In the first homework, you are going to work on a set of Python exercises.*\n",
        "\n",
        "**Submission Instructions**\n",
        "\n",
        "---\n",
        "It is important that you follow the submission instructions. \n",
        "1. Copy this assignment notebook to your Drive. <font color = 'red'> `File` --> `Save a copy in Drive`</font>. Rename it as <font color = 'green'>`Lastname_Firstname_hw1`</font>.\n",
        "\n",
        "2. Write your solutions in the cells  marked <font color = 'green'>`# your code`</font>.\n",
        "\n",
        "3. Do not delete your outputs. They are essential for the grading. Make sure that cells containing your solutions are executed, and the results are displayed on the notebook.\n",
        "\n",
        "4. When you're done please submit your solutions as an <font color=\"red\">`.ipynb`</font> file. To do so:\n",
        "\n",
        "\n",
        "1.  Click on <font color=\"red\">`File`</font>  at the top left on the Colab screen, then click on <font color = 'red'>`Download .ipynb`</font>.\n",
        "2.   Then submit the downloaded <font color=\"red\">`.ipynb`</font> version of your work on SUCourse.\n",
        "\n",
        "\n",
        "For any question, you may send an email to the TAs and LAs.\n",
        "\n",
        "---"
      ]
    },
    {
      "cell_type": "markdown",
      "metadata": {
        "id": "wK0AhfSm417l"
      },
      "source": [
        "## Q1: Get to Know Your TAs\n",
        "\n",
        "In the cell below, you have three lists: names, surnames and mails. The information regarding your TAs are stored in these three separate lists. Moreover, the elements in the same index are associated to a particular TA. For instance, the elements at index 0 constitutes contact information for the first TA.\n",
        "\n",
        "- names[0] -> Rana Bengisu\n",
        "- surnames[0] -> Kalkan\n",
        "- mails[0] -> \"ranakalkan@sabanciuniv.edu\"\n",
        "\n",
        "Here, your goal is to print the contact information of each TA.\n",
        "\n",
        "Write a function named `print_TAs_info` that takes the given lists with the signature below, and then prints the contact information of each TA in the format below.\n",
        "\n",
        "*Hint: You may use the `zip` function.*\n",
        "\n",
        "```py\n",
        ">>> print_TAs_info(names,surnames,mails)\n",
        "Rana Bengisu Kalkan: ranakalkan@sabanciuniv.edu\n",
        "Büşra Öz: boz@sabanciuniv.edu\n",
        "Mert Gürkan: mertgurkan@sabanciuniv.edu\n",
        "Hasan Alp Boz: bozhasan@sabanciuniv.edu\n",
        "```"
      ]
    },
    {
      "cell_type": "code",
      "metadata": {
        "id": "waAKTlsMTXdN",
        "outputId": "50c0d77e-5023-42e2-e130-622e0ba493c9",
        "colab": {
          "base_uri": "https://localhost:8080/",
          "height": 84
        }
      },
      "source": [
        "names = [\"Rana Bengisu\", \"Büşra\", \"Mert\", \"Hasan Alp\"]\n",
        "surnames = [\"Kalkan\", \"Öz\", \"Gürkan\", \"Boz\"]\n",
        "mails = [\"ranakalkan@sabanciuniv.edu\", \"boz@sabanciuniv.edu\", \"mertgurkan@sabanciuniv.edu\", \"bozhasan@sabanciuniv.edu\"]\n",
        "\n",
        "def print_TAs_info(names,surnames,mails):\n",
        "  for name, surname, mail in zip(names, surnames, mails):\n",
        "    print(name, surname, \":\", mail)\n",
        "\n",
        "print_TAs_info(names,surnames,mails)"
      ],
      "execution_count": 6,
      "outputs": [
        {
          "output_type": "stream",
          "text": [
            "Rana Bengisu Kalkan : ranakalkan@sabanciuniv.edu\n",
            "Büşra Öz : boz@sabanciuniv.edu\n",
            "Mert Gürkan : mertgurkan@sabanciuniv.edu\n",
            "Hasan Alp Boz : bozhasan@sabanciuniv.edu\n"
          ],
          "name": "stdout"
        }
      ]
    },
    {
      "cell_type": "markdown",
      "metadata": {
        "id": "DwskSV1dAeoR"
      },
      "source": [
        "## Q2: Teaching Survey\n",
        "\n",
        "In a survey conducted by the student resources, each student was asked whether they think online or offline education is more effective. The student responses are recorded in a file named `teaching_survey.csv`. Each line contains the response of a particular student and contains her/his major alongside her answer separated by a comma.\n",
        "\n",
        "In total, we have 1020 students; 800 CS, 140 ME and 80 BIO students.\n",
        "\n",
        "![](https://i.ibb.co/p4JJq1h/ss.png)\n",
        "\n",
        "*Do not forget to add the shared file and then mount to your drive. Otherwise, you won't be able to read the file.*\n"
      ]
    },
    {
      "cell_type": "markdown",
      "metadata": {
        "id": "EJdIEenmj6W_"
      },
      "source": [
        "#### Part A\n",
        "\n",
        "Read the provided file and select 60 random student responses. Calculate the percentage of students in the sample that thinks online teaching is more effective.\n",
        "\n",
        "![](https://i.ibb.co/n0x1xFN/sample60.png)\n"
      ]
    },
    {
      "cell_type": "code",
      "metadata": {
        "id": "NnRDeA3_SPi0",
        "outputId": "6a1b4cc9-42ab-4562-80de-6ee58bd5e1ec",
        "colab": {
          "base_uri": "https://localhost:8080/",
          "height": 121
        }
      },
      "source": [
        "import random\n",
        "from google.colab import drive\n",
        "drive.mount(\"./drive/\", force_remount=True)\n",
        "path_prefix = \"./drive/My Drive/\"\n",
        "file_name = \"teaching_survey.csv\"\n",
        "with open(path_prefix + file_name, \"r\") as file_obj:\n",
        "  list =[]\n",
        "  lines = file_obj.readlines()\n",
        "  for line in lines:\n",
        "    row_line =[x for x in line.split(\",\")]\n",
        "    stripped_line=[str.rstrip() for str in row_line]\n",
        "    list.append(stripped_line)\n",
        "  print(list)\n",
        "  sample_list = random.sample(list, 60)\n",
        "  print(sample_list)\n",
        "  occurences = [row.count(\"online\") for row in sample_list].count(1)\n",
        "  percentage = (occurences/60)*100\n",
        "  print(occurences)\n",
        "  print(percentage)"
      ],
      "execution_count": 4,
      "outputs": [
        {
          "output_type": "stream",
          "text": [
            "Mounted at ./drive/\n",
            "[['CS', 'online'], ['CS', 'offline'], ['CS', 'offline'], ['CS', 'offline'], ['ME', 'offline'], ['BIO', 'offline'], ['CS', 'online'], ['CS', 'offline'], ['CS', 'offline'], ['CS', 'online'], ['BIO', 'offline'], ['CS', 'offline'], ['CS', 'offline'], ['CS', 'offline'], ['CS', 'offline'], ['BIO', 'offline'], ['ME', 'offline'], ['CS', 'offline'], ['CS', 'online'], ['CS', 'offline'], ['CS', 'offline'], ['ME', 'offline'], ['CS', 'online'], ['CS', 'online'], ['CS', 'online'], ['CS', 'online'], ['CS', 'offline'], ['CS', 'online'], ['CS', 'online'], ['CS', 'online'], ['CS', 'offline'], ['CS', 'online'], ['CS', 'offline'], ['CS', 'online'], ['CS', 'offline'], ['CS', 'online'], ['BIO', 'offline'], ['CS', 'online'], ['CS', 'online'], ['CS', 'offline'], ['ME', 'offline'], ['ME', 'offline'], ['CS', 'online'], ['ME', 'offline'], ['BIO', 'offline'], ['CS', 'online'], ['CS', 'online'], ['ME', 'offline'], ['CS', 'online'], ['CS', 'offline'], ['CS', 'online'], ['CS', 'offline'], ['ME', 'offline'], ['CS', 'offline'], ['CS', 'online'], ['CS', 'online'], ['CS', 'online'], ['CS', 'online'], ['CS', 'offline'], ['CS', 'online'], ['CS', 'online'], ['CS', 'offline'], ['CS', 'offline'], ['CS', 'online'], ['ME', 'offline'], ['CS', 'online'], ['CS', 'online'], ['ME', 'online'], ['CS', 'offline'], ['CS', 'online'], ['CS', 'online'], ['CS', 'offline'], ['CS', 'online'], ['ME', 'online'], ['ME', 'offline'], ['CS', 'offline'], ['CS', 'offline'], ['CS', 'online'], ['CS', 'online'], ['CS', 'online'], ['CS', 'offline'], ['CS', 'online'], ['CS', 'offline'], ['CS', 'offline'], ['CS', 'online'], ['CS', 'offline'], ['ME', 'online'], ['BIO', 'offline'], ['CS', 'online'], ['ME', 'offline'], ['CS', 'online'], ['ME', 'offline'], ['CS', 'online'], ['CS', 'online'], ['CS', 'online'], ['ME', 'offline'], ['BIO', 'offline'], ['CS', 'online'], ['ME', 'offline'], ['CS', 'online'], ['CS', 'offline'], ['CS', 'offline'], ['CS', 'offline'], ['CS', 'offline'], ['CS', 'offline'], ['CS', 'offline'], ['CS', 'offline'], ['CS', 'online'], ['CS', 'offline'], ['CS', 'online'], ['ME', 'offline'], ['ME', 'offline'], ['CS', 'online'], ['CS', 'offline'], ['CS', 'online'], ['CS', 'online'], ['CS', 'offline'], ['CS', 'offline'], ['CS', 'online'], ['ME', 'offline'], ['CS', 'online'], ['CS', 'online'], ['BIO', 'offline'], ['CS', 'online'], ['CS', 'online'], ['CS', 'offline'], ['CS', 'online'], ['CS', 'offline'], ['BIO', 'offline'], ['ME', 'online'], ['CS', 'online'], ['CS', 'offline'], ['CS', 'offline'], ['CS', 'online'], ['CS', 'online'], ['CS', 'online'], ['CS', 'offline'], ['CS', 'online'], ['CS', 'offline'], ['CS', 'online'], ['CS', 'offline'], ['BIO', 'offline'], ['ME', 'offline'], ['BIO', 'offline'], ['BIO', 'offline'], ['CS', 'online'], ['CS', 'online'], ['CS', 'online'], ['CS', 'online'], ['CS', 'offline'], ['ME', 'online'], ['CS', 'offline'], ['CS', 'offline'], ['BIO', 'offline'], ['BIO', 'offline'], ['ME', 'offline'], ['CS', 'online'], ['CS', 'online'], ['CS', 'online'], ['CS', 'offline'], ['CS', 'offline'], ['ME', 'offline'], ['CS', 'online'], ['CS', 'offline'], ['CS', 'online'], ['CS', 'offline'], ['ME', 'offline'], ['CS', 'online'], ['CS', 'offline'], ['CS', 'online'], ['ME', 'offline'], ['CS', 'online'], ['CS', 'offline'], ['CS', 'offline'], ['CS', 'offline'], ['CS', 'offline'], ['BIO', 'offline'], ['CS', 'online'], ['CS', 'offline'], ['CS', 'offline'], ['CS', 'offline'], ['CS', 'offline'], ['CS', 'online'], ['CS', 'online'], ['CS', 'offline'], ['CS', 'online'], ['CS', 'offline'], ['CS', 'online'], ['CS', 'online'], ['CS', 'offline'], ['CS', 'offline'], ['CS', 'online'], ['ME', 'offline'], ['CS', 'offline'], ['ME', 'offline'], ['ME', 'offline'], ['ME', 'offline'], ['ME', 'online'], ['BIO', 'offline'], ['ME', 'offline'], ['CS', 'online'], ['ME', 'online'], ['CS', 'offline'], ['CS', 'offline'], ['CS', 'online'], ['CS', 'offline'], ['BIO', 'offline'], ['CS', 'online'], ['CS', 'online'], ['CS', 'online'], ['CS', 'offline'], ['CS', 'offline'], ['ME', 'offline'], ['CS', 'online'], ['CS', 'online'], ['BIO', 'offline'], ['CS', 'offline'], ['ME', 'offline'], ['CS', 'online'], ['CS', 'online'], ['CS', 'online'], ['CS', 'offline'], ['CS', 'online'], ['CS', 'online'], ['CS', 'offline'], ['CS', 'offline'], ['CS', 'online'], ['ME', 'offline'], ['CS', 'online'], ['CS', 'online'], ['CS', 'offline'], ['CS', 'online'], ['CS', 'offline'], ['ME', 'offline'], ['CS', 'online'], ['CS', 'offline'], ['ME', 'offline'], ['CS', 'online'], ['CS', 'online'], ['CS', 'offline'], ['CS', 'online'], ['CS', 'online'], ['CS', 'online'], ['ME', 'online'], ['CS', 'offline'], ['CS', 'online'], ['CS', 'online'], ['CS', 'online'], ['CS', 'online'], ['CS', 'offline'], ['CS', 'online'], ['CS', 'offline'], ['CS', 'online'], ['CS', 'offline'], ['CS', 'online'], ['ME', 'offline'], ['CS', 'offline'], ['CS', 'offline'], ['CS', 'online'], ['CS', 'offline'], ['CS', 'offline'], ['CS', 'offline'], ['CS', 'online'], ['CS', 'online'], ['CS', 'offline'], ['CS', 'offline'], ['CS', 'online'], ['CS', 'offline'], ['ME', 'offline'], ['CS', 'offline'], ['CS', 'offline'], ['ME', 'offline'], ['CS', 'offline'], ['CS', 'online'], ['BIO', 'offline'], ['ME', 'offline'], ['CS', 'online'], ['CS', 'online'], ['CS', 'offline'], ['CS', 'online'], ['CS', 'offline'], ['CS', 'offline'], ['CS', 'offline'], ['CS', 'online'], ['CS', 'offline'], ['CS', 'online'], ['CS', 'offline'], ['CS', 'online'], ['CS', 'online'], ['CS', 'offline'], ['CS', 'offline'], ['CS', 'online'], ['CS', 'online'], ['CS', 'online'], ['BIO', 'online'], ['BIO', 'offline'], ['CS', 'offline'], ['CS', 'online'], ['CS', 'offline'], ['CS', 'online'], ['CS', 'offline'], ['CS', 'offline'], ['CS', 'offline'], ['CS', 'online'], ['CS', 'offline'], ['CS', 'online'], ['CS', 'online'], ['BIO', 'offline'], ['CS', 'offline'], ['ME', 'online'], ['CS', 'online'], ['CS', 'offline'], ['CS', 'offline'], ['ME', 'offline'], ['ME', 'offline'], ['CS', 'online'], ['CS', 'online'], ['CS', 'offline'], ['CS', 'online'], ['CS', 'online'], ['ME', 'offline'], ['CS', 'online'], ['CS', 'online'], ['CS', 'offline'], ['CS', 'offline'], ['CS', 'online'], ['CS', 'online'], ['BIO', 'offline'], ['CS', 'online'], ['CS', 'online'], ['CS', 'offline'], ['ME', 'offline'], ['CS', 'online'], ['CS', 'online'], ['CS', 'online'], ['CS', 'offline'], ['CS', 'online'], ['CS', 'online'], ['CS', 'online'], ['CS', 'offline'], ['CS', 'offline'], ['CS', 'offline'], ['CS', 'offline'], ['ME', 'offline'], ['CS', 'online'], ['CS', 'online'], ['CS', 'online'], ['CS', 'offline'], ['CS', 'offline'], ['CS', 'online'], ['CS', 'online'], ['CS', 'online'], ['CS', 'offline'], ['CS', 'offline'], ['BIO', 'online'], ['BIO', 'offline'], ['CS', 'online'], ['ME', 'offline'], ['CS', 'offline'], ['ME', 'offline'], ['ME', 'online'], ['CS', 'online'], ['CS', 'online'], ['CS', 'offline'], ['CS', 'offline'], ['BIO', 'offline'], ['CS', 'offline'], ['CS', 'offline'], ['CS', 'online'], ['CS', 'online'], ['CS', 'offline'], ['ME', 'offline'], ['CS', 'offline'], ['CS', 'offline'], ['CS', 'online'], ['CS', 'offline'], ['BIO', 'online'], ['CS', 'offline'], ['ME', 'offline'], ['ME', 'offline'], ['CS', 'offline'], ['CS', 'offline'], ['ME', 'online'], ['CS', 'online'], ['CS', 'online'], ['BIO', 'offline'], ['CS', 'online'], ['CS', 'online'], ['CS', 'online'], ['CS', 'online'], ['ME', 'offline'], ['CS', 'offline'], ['CS', 'online'], ['CS', 'offline'], ['ME', 'online'], ['ME', 'online'], ['CS', 'online'], ['BIO', 'offline'], ['CS', 'offline'], ['CS', 'offline'], ['CS', 'online'], ['CS', 'offline'], ['CS', 'offline'], ['CS', 'offline'], ['CS', 'online'], ['CS', 'offline'], ['ME', 'online'], ['CS', 'offline'], ['CS', 'online'], ['CS', 'offline'], ['CS', 'offline'], ['CS', 'online'], ['CS', 'online'], ['CS', 'offline'], ['CS', 'online'], ['CS', 'online'], ['CS', 'online'], ['CS', 'offline'], ['CS', 'online'], ['CS', 'offline'], ['CS', 'online'], ['CS', 'online'], ['ME', 'offline'], ['CS', 'online'], ['CS', 'online'], ['CS', 'online'], ['ME', 'offline'], ['CS', 'online'], ['CS', 'offline'], ['ME', 'offline'], ['BIO', 'offline'], ['CS', 'online'], ['CS', 'offline'], ['CS', 'offline'], ['ME', 'online'], ['CS', 'online'], ['CS', 'offline'], ['CS', 'offline'], ['ME', 'offline'], ['CS', 'offline'], ['CS', 'offline'], ['CS', 'online'], ['CS', 'offline'], ['BIO', 'offline'], ['CS', 'offline'], ['CS', 'online'], ['ME', 'offline'], ['CS', 'offline'], ['CS', 'offline'], ['CS', 'online'], ['CS', 'offline'], ['CS', 'offline'], ['CS', 'offline'], ['CS', 'offline'], ['CS', 'online'], ['ME', 'offline'], ['CS', 'online'], ['CS', 'offline'], ['ME', 'offline'], ['CS', 'online'], ['CS', 'offline'], ['ME', 'offline'], ['CS', 'offline'], ['CS', 'offline'], ['CS', 'offline'], ['CS', 'offline'], ['CS', 'offline'], ['CS', 'online'], ['CS', 'offline'], ['CS', 'online'], ['CS', 'online'], ['CS', 'online'], ['CS', 'online'], ['CS', 'online'], ['CS', 'offline'], ['BIO', 'offline'], ['CS', 'offline'], ['CS', 'online'], ['CS', 'online'], ['BIO', 'online'], ['CS', 'online'], ['CS', 'online'], ['CS', 'offline'], ['CS', 'offline'], ['BIO', 'online'], ['CS', 'online'], ['CS', 'online'], ['CS', 'online'], ['CS', 'offline'], ['CS', 'offline'], ['BIO', 'offline'], ['CS', 'online'], ['CS', 'online'], ['ME', 'offline'], ['ME', 'offline'], ['CS', 'online'], ['ME', 'offline'], ['ME', 'online'], ['CS', 'online'], ['CS', 'online'], ['CS', 'online'], ['ME', 'offline'], ['CS', 'online'], ['CS', 'online'], ['CS', 'offline'], ['CS', 'online'], ['CS', 'offline'], ['CS', 'online'], ['ME', 'offline'], ['CS', 'online'], ['CS', 'online'], ['CS', 'offline'], ['CS', 'offline'], ['BIO', 'offline'], ['ME', 'offline'], ['CS', 'offline'], ['CS', 'offline'], ['ME', 'online'], ['CS', 'offline'], ['CS', 'offline'], ['CS', 'offline'], ['CS', 'online'], ['ME', 'online'], ['CS', 'offline'], ['CS', 'offline'], ['CS', 'online'], ['CS', 'offline'], ['CS', 'online'], ['BIO', 'offline'], ['CS', 'online'], ['CS', 'online'], ['CS', 'offline'], ['CS', 'online'], ['CS', 'online'], ['CS', 'offline'], ['CS', 'online'], ['BIO', 'offline'], ['CS', 'online'], ['CS', 'offline'], ['BIO', 'offline'], ['ME', 'offline'], ['CS', 'online'], ['CS', 'offline'], ['CS', 'offline'], ['CS', 'online'], ['ME', 'offline'], ['CS', 'offline'], ['CS', 'online'], ['CS', 'offline'], ['CS', 'online'], ['ME', 'offline'], ['ME', 'offline'], ['CS', 'offline'], ['CS', 'online'], ['CS', 'online'], ['CS', 'offline'], ['ME', 'offline'], ['CS', 'offline'], ['CS', 'offline'], ['CS', 'online'], ['CS', 'online'], ['CS', 'offline'], ['ME', 'online'], ['CS', 'online'], ['CS', 'offline'], ['CS', 'offline'], ['CS', 'offline'], ['BIO', 'offline'], ['CS', 'online'], ['CS', 'offline'], ['BIO', 'offline'], ['CS', 'online'], ['CS', 'online'], ['CS', 'offline'], ['CS', 'offline'], ['CS', 'offline'], ['ME', 'offline'], ['CS', 'offline'], ['CS', 'online'], ['CS', 'offline'], ['CS', 'offline'], ['CS', 'offline'], ['CS', 'online'], ['BIO', 'offline'], ['CS', 'online'], ['BIO', 'offline'], ['CS', 'offline'], ['CS', 'offline'], ['CS', 'online'], ['CS', 'offline'], ['CS', 'offline'], ['BIO', 'offline'], ['ME', 'offline'], ['CS', 'online'], ['CS', 'offline'], ['CS', 'offline'], ['BIO', 'offline'], ['ME', 'offline'], ['CS', 'offline'], ['BIO', 'offline'], ['CS', 'offline'], ['CS', 'offline'], ['ME', 'offline'], ['CS', 'online'], ['CS', 'online'], ['CS', 'online'], ['CS', 'online'], ['CS', 'online'], ['CS', 'online'], ['CS', 'offline'], ['CS', 'offline'], ['CS', 'offline'], ['ME', 'online'], ['CS', 'offline'], ['CS', 'offline'], ['CS', 'offline'], ['CS', 'online'], ['ME', 'offline'], ['BIO', 'offline'], ['CS', 'offline'], ['ME', 'offline'], ['CS', 'offline'], ['CS', 'offline'], ['CS', 'offline'], ['CS', 'offline'], ['CS', 'online'], ['CS', 'offline'], ['CS', 'online'], ['CS', 'online'], ['CS', 'online'], ['BIO', 'offline'], ['CS', 'online'], ['CS', 'online'], ['CS', 'online'], ['CS', 'online'], ['CS', 'offline'], ['CS', 'offline'], ['CS', 'offline'], ['CS', 'offline'], ['CS', 'online'], ['CS', 'online'], ['CS', 'offline'], ['CS', 'online'], ['CS', 'offline'], ['ME', 'offline'], ['CS', 'offline'], ['CS', 'online'], ['CS', 'online'], ['CS', 'offline'], ['CS', 'online'], ['CS', 'online'], ['CS', 'online'], ['CS', 'offline'], ['ME', 'offline'], ['CS', 'offline'], ['CS', 'offline'], ['CS', 'offline'], ['ME', 'offline'], ['CS', 'online'], ['CS', 'online'], ['CS', 'offline'], ['CS', 'offline'], ['CS', 'offline'], ['CS', 'offline'], ['CS', 'offline'], ['CS', 'offline'], ['CS', 'online'], ['CS', 'offline'], ['CS', 'offline'], ['CS', 'online'], ['CS', 'online'], ['BIO', 'offline'], ['ME', 'offline'], ['CS', 'offline'], ['ME', 'offline'], ['CS', 'offline'], ['CS', 'offline'], ['CS', 'offline'], ['BIO', 'offline'], ['CS', 'online'], ['CS', 'online'], ['CS', 'offline'], ['ME', 'offline'], ['CS', 'offline'], ['CS', 'offline'], ['CS', 'offline'], ['CS', 'offline'], ['CS', 'offline'], ['CS', 'online'], ['CS', 'offline'], ['CS', 'online'], ['CS', 'offline'], ['CS', 'online'], ['CS', 'offline'], ['CS', 'online'], ['CS', 'offline'], ['CS', 'online'], ['CS', 'online'], ['ME', 'online'], ['BIO', 'offline'], ['BIO', 'offline'], ['CS', 'offline'], ['CS', 'offline'], ['BIO', 'offline'], ['ME', 'offline'], ['CS', 'offline'], ['CS', 'online'], ['CS', 'offline'], ['CS', 'online'], ['CS', 'offline'], ['CS', 'online'], ['CS', 'online'], ['CS', 'offline'], ['CS', 'online'], ['CS', 'online'], ['CS', 'online'], ['CS', 'offline'], ['CS', 'offline'], ['CS', 'offline'], ['CS', 'online'], ['CS', 'offline'], ['CS', 'online'], ['CS', 'offline'], ['BIO', 'offline'], ['CS', 'offline'], ['CS', 'offline'], ['CS', 'offline'], ['CS', 'online'], ['CS', 'online'], ['CS', 'online'], ['CS', 'online'], ['CS', 'offline'], ['CS', 'offline'], ['ME', 'offline'], ['CS', 'offline'], ['CS', 'offline'], ['CS', 'offline'], ['BIO', 'offline'], ['ME', 'online'], ['CS', 'online'], ['CS', 'offline'], ['CS', 'online'], ['CS', 'offline'], ['CS', 'online'], ['BIO', 'online'], ['CS', 'offline'], ['CS', 'online'], ['BIO', 'offline'], ['CS', 'offline'], ['BIO', 'offline'], ['CS', 'online'], ['CS', 'offline'], ['ME', 'online'], ['CS', 'online'], ['ME', 'offline'], ['ME', 'offline'], ['CS', 'online'], ['CS', 'offline'], ['ME', 'offline'], ['CS', 'offline'], ['CS', 'online'], ['BIO', 'offline'], ['CS', 'offline'], ['CS', 'offline'], ['CS', 'online'], ['CS', 'offline'], ['CS', 'offline'], ['ME', 'offline'], ['CS', 'offline'], ['CS', 'online'], ['CS', 'online'], ['CS', 'offline'], ['CS', 'offline'], ['CS', 'offline'], ['ME', 'offline'], ['CS', 'online'], ['CS', 'online'], ['CS', 'offline'], ['ME', 'offline'], ['CS', 'offline'], ['ME', 'offline'], ['CS', 'online'], ['CS', 'offline'], ['BIO', 'offline'], ['ME', 'offline'], ['CS', 'online'], ['CS', 'offline'], ['ME', 'offline'], ['ME', 'offline'], ['BIO', 'offline'], ['BIO', 'offline'], ['CS', 'offline'], ['CS', 'online'], ['CS', 'online'], ['CS', 'offline'], ['CS', 'online'], ['CS', 'online'], ['ME', 'offline'], ['CS', 'offline'], ['CS', 'offline'], ['BIO', 'offline'], ['CS', 'online'], ['CS', 'offline'], ['ME', 'offline'], ['CS', 'offline'], ['CS', 'online'], ['CS', 'offline'], ['BIO', 'offline'], ['CS', 'online'], ['CS', 'online'], ['CS', 'online'], ['CS', 'online'], ['CS', 'online'], ['CS', 'offline'], ['ME', 'offline'], ['BIO', 'offline'], ['CS', 'offline'], ['CS', 'online'], ['CS', 'online'], ['CS', 'online'], ['CS', 'online'], ['CS', 'offline'], ['CS', 'online'], ['CS', 'online'], ['CS', 'offline'], ['CS', 'offline'], ['CS', 'offline'], ['CS', 'offline'], ['CS', 'online'], ['CS', 'offline'], ['CS', 'offline'], ['CS', 'online'], ['CS', 'offline'], ['CS', 'offline'], ['CS', 'offline'], ['CS', 'online'], ['CS', 'online'], ['CS', 'online'], ['ME', 'offline'], ['CS', 'online'], ['CS', 'online'], ['CS', 'online'], ['CS', 'online'], ['ME', 'offline'], ['CS', 'online'], ['CS', 'online'], ['CS', 'offline'], ['CS', 'offline'], ['CS', 'offline'], ['CS', 'online'], ['CS', 'offline'], ['CS', 'offline'], ['CS', 'offline'], ['CS', 'online'], ['CS', 'offline'], ['CS', 'offline'], ['CS', 'offline'], ['ME', 'offline'], ['CS', 'offline'], ['ME', 'online'], ['CS', 'online'], ['CS', 'offline'], ['BIO', 'offline'], ['ME', 'offline'], ['CS', 'online'], ['CS', 'offline'], ['CS', 'online'], ['CS', 'online'], ['CS', 'offline'], ['CS', 'offline'], ['CS', 'offline'], ['BIO', 'online'], ['CS', 'offline'], ['ME', 'offline'], ['ME', 'offline'], ['CS', 'offline'], ['CS', 'online'], ['CS', 'offline'], ['CS', 'offline'], ['ME', 'offline'], ['CS', 'online'], ['CS', 'online'], ['CS', 'online'], ['CS', 'offline'], ['CS', 'online'], ['ME', 'offline'], ['CS', 'online'], ['CS', 'online'], ['CS', 'online'], ['CS', 'offline'], ['CS', 'online'], ['CS', 'online'], ['CS', 'offline'], ['CS', 'online'], ['CS', 'offline'], ['CS', 'online'], ['ME', 'online'], ['ME', 'offline'], ['BIO', 'offline'], ['CS', 'offline'], ['ME', 'offline'], ['CS', 'offline'], ['ME', 'offline'], ['CS', 'offline'], ['CS', 'offline'], ['CS', 'offline'], ['CS', 'online'], ['CS', 'online'], ['CS', 'offline'], ['ME', 'offline'], ['CS', 'offline'], ['CS', 'offline'], ['BIO', 'offline'], ['CS', 'online'], ['CS', 'offline'], ['CS', 'online'], ['CS', 'offline'], ['CS', 'online'], ['CS', 'online'], ['CS', 'offline'], ['BIO', 'online'], ['CS', 'online'], ['CS', 'online'], ['CS', 'offline'], ['CS', 'online'], ['CS', 'online'], ['BIO', 'offline'], ['CS', 'offline'], ['CS', 'offline'], ['CS', 'online'], ['CS', 'offline'], ['CS', 'offline'], ['CS', 'offline'], ['CS', 'offline'], ['ME', 'offline'], ['CS', 'online'], ['ME', 'offline'], ['CS', 'offline'], ['ME', 'offline'], ['CS', 'online'], ['CS', 'online'], ['CS', 'online'], ['CS', 'online'], ['CS', 'online'], ['CS', 'offline'], ['CS', 'offline'], ['CS', 'offline'], ['CS', 'online'], ['CS', 'offline'], ['CS', 'offline'], ['CS', 'offline'], ['CS', 'online'], ['CS', 'online'], ['CS', 'offline'], ['BIO', 'offline'], ['CS', 'online'], ['BIO', 'offline'], ['BIO', 'offline'], ['CS', 'online'], ['CS', 'online'], ['CS', 'online'], ['CS', 'offline'], ['CS', 'offline'], ['BIO', 'offline'], ['BIO', 'offline'], ['CS', 'online'], ['CS', 'offline'], ['ME', 'online'], ['CS', 'offline'], ['CS', 'online'], ['CS', 'offline'], ['CS', 'online'], ['CS', 'online'], ['CS', 'online'], ['CS', 'offline'], ['CS', 'online'], ['CS', 'offline'], ['CS', 'online'], ['CS', 'online'], ['CS', 'online'], ['CS', 'online'], ['CS', 'online'], ['CS', 'online'], ['CS', 'offline'], ['BIO', 'offline'], ['CS', 'offline'], ['BIO', 'offline'], ['CS', 'online'], ['CS', 'online'], ['CS', 'online'], ['CS', 'online'], ['CS', 'online'], ['CS', 'offline'], ['ME', 'offline'], ['ME', 'online'], ['CS', 'online'], ['CS', 'online'], ['CS', 'offline'], ['CS', 'offline'], ['CS', 'offline'], ['CS', 'offline'], ['CS', 'online'], ['CS', 'offline'], ['CS', 'offline'], ['BIO', 'offline'], ['CS', 'online'], ['CS', 'offline'], ['CS', 'online'], ['CS', 'online'], ['ME', 'offline'], ['CS', 'online'], ['ME', 'offline'], ['ME', 'offline'], ['CS', 'offline'], ['CS', 'offline'], ['CS', 'offline'], ['ME', 'online'], ['BIO', 'offline'], ['CS', 'online'], ['CS', 'offline']]\n",
            "[['CS', 'online'], ['CS', 'offline'], ['CS', 'offline'], ['BIO', 'offline'], ['CS', 'offline'], ['CS', 'online'], ['CS', 'offline'], ['CS', 'online'], ['CS', 'online'], ['CS', 'online'], ['CS', 'offline'], ['CS', 'online'], ['ME', 'online'], ['ME', 'offline'], ['BIO', 'online'], ['CS', 'offline'], ['CS', 'offline'], ['CS', 'online'], ['CS', 'offline'], ['ME', 'offline'], ['CS', 'online'], ['CS', 'offline'], ['CS', 'offline'], ['CS', 'offline'], ['CS', 'online'], ['CS', 'online'], ['CS', 'online'], ['CS', 'online'], ['CS', 'offline'], ['CS', 'offline'], ['CS', 'offline'], ['CS', 'offline'], ['CS', 'online'], ['CS', 'offline'], ['CS', 'online'], ['BIO', 'offline'], ['CS', 'offline'], ['CS', 'online'], ['CS', 'online'], ['CS', 'online'], ['BIO', 'offline'], ['CS', 'online'], ['CS', 'online'], ['CS', 'offline'], ['CS', 'online'], ['CS', 'online'], ['ME', 'offline'], ['CS', 'offline'], ['CS', 'online'], ['CS', 'offline'], ['CS', 'online'], ['BIO', 'offline'], ['CS', 'offline'], ['ME', 'online'], ['CS', 'online'], ['CS', 'offline'], ['BIO', 'offline'], ['CS', 'online'], ['CS', 'offline'], ['BIO', 'offline']]\n",
            "28\n",
            "46.666666666666664\n"
          ],
          "name": "stdout"
        }
      ]
    },
    {
      "cell_type": "markdown",
      "metadata": {
        "id": "pIBUWMoXSSwr"
      },
      "source": [
        "#### Part B\n",
        "\n",
        "This time you will apply stratified sampling. Sample 20 student reponses  from each major (60 in total) and  then recalculate the percentage of students in the sample that thinks online teaching is more effective. Report this number. Do you see a diffference? Why is that? Do you think it is enough to draw a random sample once.\n",
        "\n",
        "\n",
        "\n",
        "![](https://i.ibb.co/6Fg0TtW/eqaul-Sample.png)"
      ]
    },
    {
      "cell_type": "code",
      "metadata": {
        "id": "laBFy2HkSXpC",
        "outputId": "fdc01a8f-13e5-4261-d278-0031b992c5d5",
        "colab": {
          "base_uri": "https://localhost:8080/",
          "height": 171
        }
      },
      "source": [
        "import random\n",
        "from google.colab import drive\n",
        "drive.mount(\"./drive/\", force_remount=True)\n",
        "path_prefix = \"./drive/My Drive/\"\n",
        "file_name = \"teaching_survey.csv\"\n",
        "with open(path_prefix + file_name, \"r\") as file_obj:\n",
        "  bio_list =[]\n",
        "  cs_list = []\n",
        "  me_list = []\n",
        "  lines = file_obj.readlines()\n",
        "  for line in lines:\n",
        "    row_line =[x for x in line.split(\",\")]\n",
        "    stripped_line=[str.rstrip() for str in row_line]\n",
        "    if stripped_line[0] == \"CS\":\n",
        "      cs_list.append(stripped_line)\n",
        "    elif stripped_line[0] == \"BIO\":\n",
        "      bio_list.append(stripped_line)\n",
        "    else:\n",
        "      me_list.append(stripped_line)\n",
        "\n",
        "  sample_bio_list = random.sample(bio_list, 20) \n",
        "  sample_cs_list = random.sample(cs_list, 20)\n",
        "  sample_me_list = random.sample(me_list, 20)   \n",
        "  print(sample_bio_list) \n",
        "  print(sample_cs_list) \n",
        "  print(sample_me_list)  \n",
        "\n",
        "  bio_occurences = [row.count(\"online\") for row in sample_bio_list].count(1)\n",
        "  cs_occurences = [row.count(\"online\") for row in sample_cs_list].count(1)\n",
        "  me_occurences = [row.count(\"online\") for row in sample_me_list].count(1)\n",
        "  print(bio_occurences)\n",
        "  print(cs_occurences)\n",
        "  print(me_occurences)\n",
        "  percentage = ((bio_occurences + cs_occurences + me_occurences)/60)*100\n",
        "  print(percentage)"
      ],
      "execution_count": null,
      "outputs": [
        {
          "output_type": "stream",
          "text": [
            "Mounted at ./drive/\n",
            "[['BIO', 'offline'], ['BIO', 'offline'], ['BIO', 'offline'], ['BIO', 'offline'], ['BIO', 'offline'], ['BIO', 'offline'], ['BIO', 'offline'], ['BIO', 'offline'], ['BIO', 'offline'], ['BIO', 'offline'], ['BIO', 'offline'], ['BIO', 'offline'], ['BIO', 'offline'], ['BIO', 'offline'], ['BIO', 'offline'], ['BIO', 'offline'], ['BIO', 'offline'], ['BIO', 'offline'], ['BIO', 'offline'], ['BIO', 'offline']]\n",
            "[['CS', 'offline'], ['CS', 'offline'], ['CS', 'offline'], ['CS', 'online'], ['CS', 'offline'], ['CS', 'online'], ['CS', 'offline'], ['CS', 'online'], ['CS', 'offline'], ['CS', 'offline'], ['CS', 'online'], ['CS', 'online'], ['CS', 'online'], ['CS', 'offline'], ['CS', 'offline'], ['CS', 'offline'], ['CS', 'online'], ['CS', 'offline'], ['CS', 'offline'], ['CS', 'offline']]\n",
            "[['ME', 'offline'], ['ME', 'online'], ['ME', 'offline'], ['ME', 'offline'], ['ME', 'offline'], ['ME', 'offline'], ['ME', 'online'], ['ME', 'offline'], ['ME', 'online'], ['ME', 'offline'], ['ME', 'offline'], ['ME', 'offline'], ['ME', 'offline'], ['ME', 'offline'], ['ME', 'online'], ['ME', 'offline'], ['ME', 'offline'], ['ME', 'offline'], ['ME', 'offline'], ['ME', 'offline']]\n",
            "0\n",
            "7\n",
            "4\n",
            "18.333333333333332\n"
          ],
          "name": "stdout"
        }
      ]
    },
    {
      "cell_type": "markdown",
      "metadata": {
        "id": "HMa35yitTrzR"
      },
      "source": [
        "Percentage is 18.3333... \n",
        "It is significantly lower if we dont seperate the lists.  Because when we divide the bigger list, we get smaller individuals list that due to having smaller sample size, deviate more from the average. This is like flipping a coin 5 times and getting a tails five times. But if we keep doing it, our probability converges to %50. We need more data to draw conclusions more accurately. It is not enough to draw it once because it deviates a lot every time we draw it. We should draw it many times and get the average. \n",
        "<font color=\"blue\">[Double Click to insert your comment]</font>"
      ]
    },
    {
      "cell_type": "markdown",
      "metadata": {
        "id": "srIzF7eJYUAW"
      },
      "source": [
        "## Q3: List Reshaping\n",
        "\n",
        "List/array reshaping is one of the most fundamental operations in data manipulation. In the figure below, you see a single dimensional (1D) list named `arr` that contains integers from 1 to 6. We can cast this 1D list into a matrix as well. \n",
        "\n",
        "![](https://cdn.discordapp.com/attachments/715265876810530846/764191117067026472/list_to_matrix2.png)\n",
        "\n",
        "By referencing the figure above, write a function named `list_to_matrix` which will take a single dimensional list and two integers representing the shape of the desired matrix. At the end, it should return the resulting matrix.\n",
        "\n",
        "If the given number of rows and columns are not compatible with the number of elements, then print a warning and return `None`.\n",
        "\n",
        "```py\n",
        ">>> arr = [i for i in range(30)]\n",
        ">>> list_to_matrix(arr, 5, 6)\n",
        "[[0, 1, 2, 3, 4, 5],\n",
        " [6, 7, 8, 9, 10, 11],\n",
        " [12, 13, 14, 15, 16, 17],\n",
        " [18, 19, 20, 21, 22, 23],\n",
        " [24, 25, 26, 27, 28, 29]]\n",
        "\n",
        ">>> list_to_matrix(arr, 5, 4)  # will give a warning\n",
        "                               # because we can't place 30 elements\n",
        "                               # in a 5x4 matrix\n",
        "\"Uncompatible Shapes\"\n",
        "```"
      ]
    },
    {
      "cell_type": "code",
      "metadata": {
        "id": "0WoZN1leCvwB",
        "outputId": "8273c5d9-ae93-448b-e9c9-f5d68563593f",
        "colab": {
          "base_uri": "https://localhost:8080/",
          "height": 118
        }
      },
      "source": [
        "from google.colab import drive\n",
        "drive.mount('/content/drive', force_remount=True)\n",
        "def list_to_matrix(list, int1, int2):\n",
        "  multiplication = int1*int2\n",
        "  length = len(list)\n",
        "  if length > multiplication:\n",
        "    print(\"Uncompatible shapes\")\n",
        "    return none\n",
        "\n",
        "  mtx = []\n",
        "  while list!=[]:\n",
        "    mtx.append(list[:int2])\n",
        "    del list[0:int2] \n",
        "\n",
        "  \n",
        "  return mtx\n",
        "    \n",
        "\n",
        "arr = [i for i in range(30)]\n",
        "list_to_matrix(arr, 5, 6)"
      ],
      "execution_count": 1,
      "outputs": [
        {
          "output_type": "stream",
          "text": [
            "Mounted at /content/drive\n"
          ],
          "name": "stdout"
        },
        {
          "output_type": "execute_result",
          "data": {
            "text/plain": [
              "[[0, 1, 2, 3, 4, 5],\n",
              " [6, 7, 8, 9, 10, 11],\n",
              " [12, 13, 14, 15, 16, 17],\n",
              " [18, 19, 20, 21, 22, 23],\n",
              " [24, 25, 26, 27, 28, 29]]"
            ]
          },
          "metadata": {
            "tags": []
          },
          "execution_count": 1
        }
      ]
    },
    {
      "cell_type": "markdown",
      "metadata": {
        "id": "_0FzjI4Li18J"
      },
      "source": [
        "## Q4: Longest Word in a File\n",
        "\n",
        "In the shared assignment folder, you have a file named `hamlet.txt` which stores the famous play written by William Shakespeare.\n",
        "\n",
        "Write a function named `longest_word` which will take a file name as it's single parameter and then reads and returns the longest word from that file.\n",
        "\n",
        "```py\n",
        ">>> longest_word(\"hamlet.txt\")\n",
        "```\n",
        "\n",
        "*Do not forget to add the shared file and then mount to your drive. Otherwise, you won't be able to read the file.*"
      ]
    },
    {
      "cell_type": "code",
      "metadata": {
        "id": "DEQOU3viZAfj",
        "outputId": "c3af3d09-5909-4aa1-9a36-1171e552adde",
        "colab": {
          "base_uri": "https://localhost:8080/",
          "height": 34
        }
      },
      "source": [
        "path_prefix = \"./drive/My Drive/\"\n",
        "filename = \"hamlet.txt\"\n",
        "\n",
        "def longest_word(filename):\n",
        "  with open(path_prefix + filename, \"r\") as file_obj:\n",
        "    words=file_obj.read().split()\n",
        "    longest=max(words, key=len)\n",
        "    print(longest)\n",
        "longest_word(\"hamlet.txt\")    "
      ],
      "execution_count": 5,
      "outputs": [
        {
          "output_type": "stream",
          "text": [
            "tragical-comical-historical-pastoral;\n"
          ],
          "name": "stdout"
        }
      ]
    }
  ]
}